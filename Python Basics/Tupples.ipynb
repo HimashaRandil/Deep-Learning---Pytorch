{
 "cells": [
  {
   "cell_type": "code",
   "execution_count": null,
   "metadata": {},
   "outputs": [],
   "source": [
    "# Tupples \n",
    "# used in fixed list if the values are not needed to be changed\n",
    "# To store immutable values  (values that cannot be changed)"
   ]
  },
  {
   "cell_type": "markdown",
   "metadata": {},
   "source": [
    "## Defining TupPles  "
   ]
  },
  {
   "cell_type": "code",
   "execution_count": 1,
   "metadata": {},
   "outputs": [],
   "source": [
    "size = ('XS', 'S', 'M', 'L', 'XL', 'XXL') # tupple"
   ]
  },
  {
   "cell_type": "code",
   "execution_count": null,
   "metadata": {},
   "outputs": [],
   "source": [
    "tuPple1 = () # empty tupPle"
   ]
  },
  {
   "cell_type": "code",
   "execution_count": 2,
   "metadata": {},
   "outputs": [
    {
     "name": "stdout",
     "output_type": "stream",
     "text": [
      "<class 'tuple'>\n"
     ]
    }
   ],
   "source": [
    "odd_numbers = 1, 3, 5, 7, 9 #Tupple PACKING \n",
    "\n",
    "print(type(odd_numbers))"
   ]
  },
  {
   "cell_type": "code",
   "execution_count": 3,
   "metadata": {},
   "outputs": [],
   "source": [
    "def square_number(num):  #using tupple to return multiple values\n",
    "    return num, num**2"
   ]
  },
  {
   "cell_type": "code",
   "execution_count": 5,
   "metadata": {},
   "outputs": [
    {
     "name": "stdout",
     "output_type": "stream",
     "text": [
      "(5, 25)\n",
      "<class 'tuple'>\n"
     ]
    }
   ],
   "source": [
    "out = square_number(5)\n",
    "print(out)\n",
    "print(type(out))"
   ]
  },
  {
   "cell_type": "markdown",
   "metadata": {},
   "source": [
    "## Accessing Tupples"
   ]
  },
  {
   "cell_type": "code",
   "execution_count": 6,
   "metadata": {},
   "outputs": [
    {
     "name": "stdout",
     "output_type": "stream",
     "text": [
      "apple\n"
     ]
    }
   ],
   "source": [
    "# How  to access Tupples\n",
    "\n",
    "tuple_fruits = ('apple', 'banana', 'cherry', 'dates', 'elderberry')\n",
    "\n",
    "print(tuple_fruits[0]) # apple"
   ]
  },
  {
   "cell_type": "code",
   "execution_count": 7,
   "metadata": {},
   "outputs": [
    {
     "name": "stdout",
     "output_type": "stream",
     "text": [
      "(1, 2, 3, ['Z', 'B', 'C'], 4, 5)\n"
     ]
    }
   ],
   "source": [
    "# Nested Tupples\n",
    "nested_tupple = (1, 2, 3, ('A', 'B', 'C'), 4, 5)\n",
    "\n",
    "# if there is a muttable obbject inside tuple its mmutable \n",
    "\n",
    "nested_tupple2 = (1, 2, 3, ['A', 'B', 'C'], 4, 5)\n",
    "nested_tupple2[3][0] = 'Z'\n",
    "print(nested_tupple2)"
   ]
  },
  {
   "cell_type": "code",
   "execution_count": 12,
   "metadata": {},
   "outputs": [
    {
     "name": "stdout",
     "output_type": "stream",
     "text": [
      "XS\n",
      "XS\n"
     ]
    }
   ],
   "source": [
    "# Tupple  Unpacking\n",
    "# Unpacking is the process of extracting values from a tuple and assigning them to variables\n",
    "size = ('XS', 'S', 'M', 'L', 'XL', 'XXL')\n",
    "xsmall, small, medium, large, xlarge, xxlarge = size\n",
    "print(xsmall)\n",
    "\n",
    "\n",
    "#  Selected Unpacking\n",
    "# If you are interested in only a few values from the tuple, you can use the * operator to ignore the rest of the values.\n",
    "size = ('XS', 'S', 'M', 'L', 'XL', 'XXL')\n",
    "xsmall, small, _,_,_,_ = size\n",
    "print(xsmall)"
   ]
  },
  {
   "cell_type": "code",
   "execution_count": 13,
   "metadata": {},
   "outputs": [
    {
     "name": "stdout",
     "output_type": "stream",
     "text": [
      "XS\n",
      "S\n",
      "['M', 'L', 'XL', 'XXL']\n"
     ]
    }
   ],
   "source": [
    "xsmall,small,*rest = size\n",
    "print(xsmall)\n",
    "print(small)\n",
    "print(rest)"
   ]
  },
  {
   "cell_type": "code",
   "execution_count": 14,
   "metadata": {},
   "outputs": [
    {
     "name": "stdout",
     "output_type": "stream",
     "text": [
      "2\n",
      "1\n"
     ]
    }
   ],
   "source": [
    "#tupple  packing and unpacking\n",
    "\n",
    "a = 1\n",
    "b = 2\n",
    "\n",
    "b, a = a, b\n",
    "\n",
    "print(a)\n",
    "print(b) "
   ]
  },
  {
   "cell_type": "code",
   "execution_count": 20,
   "metadata": {},
   "outputs": [
    {
     "name": "stdout",
     "output_type": "stream",
     "text": [
      "4\n",
      "3\n"
     ]
    }
   ],
   "source": [
    "# tupple  methods\n",
    "# count() - returns the number of times a specified value occurs in a tuple\n",
    "# index() - returns the index of the first occurrence of a specified value\n",
    "\n",
    "tuple_fruits = ('apple', 'banana', 'cherry', 'dates', 'elderberry', 'apple', 'apple','banana','kiwi','apple')\n",
    "print(tuple_fruits.count('apple'))\n",
    "\n",
    "print(tuple_fruits.index('dates'))"
   ]
  },
  {
   "cell_type": "code",
   "execution_count": 21,
   "metadata": {},
   "outputs": [
    {
     "name": "stdout",
     "output_type": "stream",
     "text": [
      "('cherry', 'dates', 'elderberry', 'apple')\n"
     ]
    }
   ],
   "source": [
    "# tupple slicing\n",
    "# Slicing is used to extract a specific range of items from a tuple.\n",
    "# The syntax for slicing is similar to that of lists.\n",
    "# tuple[start:stop:step]\n",
    "\n",
    "tuple_fruits = ('apple', 'banana', 'cherry', 'dates', 'elderberry', 'apple', 'apple','banana','kiwi','apple')\n",
    "print(tuple_fruits[2:6])"
   ]
  },
  {
   "cell_type": "code",
   "execution_count": null,
   "metadata": {},
   "outputs": [],
   "source": [
    "# tuples are faster than lists"
   ]
  }
 ],
 "metadata": {
  "kernelspec": {
   "display_name": "Python 3",
   "language": "python",
   "name": "python3"
  },
  "language_info": {
   "codemirror_mode": {
    "name": "ipython",
    "version": 3
   },
   "file_extension": ".py",
   "mimetype": "text/x-python",
   "name": "python",
   "nbconvert_exporter": "python",
   "pygments_lexer": "ipython3",
   "version": "3.12.4"
  }
 },
 "nbformat": 4,
 "nbformat_minor": 2
}
