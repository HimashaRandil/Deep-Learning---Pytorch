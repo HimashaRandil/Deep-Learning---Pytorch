{
 "cells": [
  {
   "cell_type": "code",
   "execution_count": null,
   "metadata": {},
   "outputs": [],
   "source": [
    "'''\n",
    "\n",
    "Basics -  Data types, variables, expression, Strings manipulation\n",
    "Data types in depth - Lists,Tuples, Dictionaries, Sets\n",
    "Programming Fundermentals - Loops, control structures, Exception handling\n",
    "OOP Concepst\n",
    "Functional Programming\n",
    "Working with DAta - Files, dataframes (Pandas), Numerical Calculations (Numpy)\n",
    "Advanced Concepts - Map, Lambda, list comprihension, regex\n",
    "\n",
    "'''"
   ]
  },
  {
   "cell_type": "markdown",
   "metadata": {},
   "source": [
    "## Python Fundamentals"
   ]
  },
  {
   "cell_type": "code",
   "execution_count": null,
   "metadata": {},
   "outputs": [],
   "source": [
    "# Data Types\n",
    "\n",
    "'''\n",
    "Integer - Whole Numbers\n",
    "Float - any real numbers\n",
    "String - characters in between quotes {',\"}\n",
    "Boolean - True or False\n",
    "None - null values\n",
    "\n",
    "Composite data types - List, Tuples, Dictionaries, Sets \n",
    "    Can hold multiple values\n",
    "\n",
    "'''"
   ]
  },
  {
   "cell_type": "code",
   "execution_count": null,
   "metadata": {},
   "outputs": [
    {
     "ename": "",
     "evalue": "",
     "output_type": "error",
     "traceback": [
      "\u001b[1;31mRunning cells with 'Python 3.12.3' requires the ipykernel package.\n",
      "\u001b[1;31mRun the following command to install 'ipykernel' into the Python environment. \n",
      "\u001b[1;31mCommand: 'c:/Users/hrand/AppData/Local/Microsoft/WindowsApps/python3.12.exe -m pip install ipykernel -U --user --force-reinstall'"
     ]
    }
   ],
   "source": [
    "print(\"Hello World!\")"
   ]
  }
 ],
 "metadata": {
  "kernelspec": {
   "display_name": "Python 3",
   "language": "python",
   "name": "python3"
  },
  "language_info": {
   "name": "python",
   "version": "3.12.3"
  }
 },
 "nbformat": 4,
 "nbformat_minor": 2
}
