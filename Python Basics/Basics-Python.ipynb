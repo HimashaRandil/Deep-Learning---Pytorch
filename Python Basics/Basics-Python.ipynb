{
 "cells": [
  {
   "cell_type": "code",
   "execution_count": null,
   "metadata": {},
   "outputs": [],
   "source": [
    "'''\n",
    "\n",
    "Basics -  Data types, variables, expression, Strings manipulation\n",
    "Data types in depth - Lists,Tuples, Dictionaries, Sets\n",
    "Programming Fundermentals - Loops, control structures, Exception handling\n",
    "OOP Concepst\n",
    "Functional Programming\n",
    "Working with DAta - Files, dataframes (Pandas), Numerical Calculations (Numpy)\n",
    "Advanced Concepts - Map, Lambda, list comprihension, regex\n",
    "\n",
    "'''"
   ]
  },
  {
   "cell_type": "markdown",
   "metadata": {},
   "source": [
    "## Python Fundamentals"
   ]
  },
  {
   "cell_type": "code",
   "execution_count": null,
   "metadata": {},
   "outputs": [],
   "source": [
    "# Data Types\n",
    "\n",
    "'''\n",
    "Integer - Whole Numbers\n",
    "Float - any real numbers\n",
    "String - characters in between quotes {',\"}\n",
    "Boolean - True or False\n",
    "None - null values\n",
    "\n",
    "Composite data types - List, Tuples, Dictionaries, Sets \n",
    "    Can hold multiple values\n",
    "\n",
    "'''"
   ]
  },
  {
   "cell_type": "code",
   "execution_count": 2,
   "metadata": {},
   "outputs": [
    {
     "name": "stdout",
     "output_type": "stream",
     "text": [
      "Hello World!\n",
      "10\n"
     ]
    }
   ],
   "source": [
    "# Print Statements \n",
    "print(\"Hello World!\")\n",
    "print(10)"
   ]
  },
  {
   "cell_type": "code",
   "execution_count": 4,
   "metadata": {},
   "outputs": [
    {
     "name": "stdout",
     "output_type": "stream",
     "text": [
      "<class 'int'>\n",
      "<class 'str'>\n"
     ]
    }
   ],
   "source": [
    "# Check Data Type\n",
    "\n",
    "a = 10\n",
    "print(type(a))\n",
    "\n",
    "a = \"Deep Learning\"\n",
    "print(type(a))"
   ]
  },
  {
   "cell_type": "code",
   "execution_count": 3,
   "metadata": {},
   "outputs": [
    {
     "name": "stdout",
     "output_type": "stream",
     "text": [
      "True\n"
     ]
    }
   ],
   "source": [
    "from IPython.core.prefilter import Integer\n",
    "\n",
    "if type ('Deep Learning') == str:\n",
    "    print(True)\n",
    "\n",
    "# mainly used in data validation "
   ]
  },
  {
   "cell_type": "code",
   "execution_count": 6,
   "metadata": {},
   "outputs": [
    {
     "name": "stdout",
     "output_type": "stream",
     "text": [
      "78.5\n"
     ]
    }
   ],
   "source": [
    "# Variable and Expressions\n",
    "\n",
    "# Variable - a rcerved memory location\n",
    "radius = 5\n",
    "pi =3.14\n",
    "\n",
    "# Statement - Combination of language syntaxes (numbers, keybwords, variables)\n",
    "area  = pi * radius * radius\n",
    "print(area)"
   ]
  },
  {
   "cell_type": "markdown",
   "metadata": {},
   "source": [
    "Restrictions when naming variables\n",
    "\n",
    "* cant use keywords or reserved function names as variables\n",
    "\n",
    "* Shouldn't use spacces  \n",
    "\n",
    "    insted of `grand total = 100` use `grand_total =100`\n",
    "\n",
    "\n",
    "* Variable name must start with a letter or  an underscore (don't start with numbers)\n",
    "\n",
    "* Variable names are case sensitive "
   ]
  },
  {
   "cell_type": "code",
   "execution_count": 11,
   "metadata": {},
   "outputs": [],
   "source": [
    "# Explicit Typiying - COonvertion of types by calling the type constructor \n",
    "\n",
    "b = str(100)"
   ]
  },
  {
   "cell_type": "code",
   "execution_count": 12,
   "metadata": {},
   "outputs": [
    {
     "data": {
      "text/plain": [
       "str"
      ]
     },
     "execution_count": 12,
     "metadata": {},
     "output_type": "execute_result"
    }
   ],
   "source": [
    "type(b)"
   ]
  },
  {
   "cell_type": "markdown",
   "metadata": {},
   "source": [
    "### Strings \n",
    "\n",
    "list of  characters  "
   ]
  },
  {
   "cell_type": "code",
   "execution_count": 14,
   "metadata": {},
   "outputs": [
    {
     "data": {
      "text/plain": [
       "str"
      ]
     },
     "execution_count": 14,
     "metadata": {},
     "output_type": "execute_result"
    }
   ],
   "source": [
    "string1 = 'Deep Learning'\n",
    "string2  = \"Deep Learning\"\n",
    "\n",
    "type(string2)\n"
   ]
  },
  {
   "cell_type": "code",
   "execution_count": 15,
   "metadata": {},
   "outputs": [
    {
     "data": {
      "text/plain": [
       "13"
      ]
     },
     "execution_count": 15,
     "metadata": {},
     "output_type": "execute_result"
    }
   ],
   "source": [
    "len(string2) #  Space is also  considered as a string "
   ]
  },
  {
   "cell_type": "code",
   "execution_count": 16,
   "metadata": {},
   "outputs": [
    {
     "data": {
      "text/plain": [
       "8"
      ]
     },
     "execution_count": 16,
     "metadata": {},
     "output_type": "execute_result"
    }
   ],
   "source": [
    "#  get the index of a  character \n",
    "# Lets say i want to get the character of the r \n",
    "\n",
    "string2.index('r')"
   ]
  },
  {
   "cell_type": "code",
   "execution_count": 19,
   "metadata": {},
   "outputs": [
    {
     "data": {
      "text/plain": [
       "'n'"
      ]
     },
     "execution_count": 19,
     "metadata": {},
     "output_type": "execute_result"
    }
   ],
   "source": [
    "# extract a single ccharacter \n",
    "\n",
    "string1[-1]\n",
    "string1[-2]"
   ]
  },
  {
   "cell_type": "code",
   "execution_count": 24,
   "metadata": {},
   "outputs": [
    {
     "name": "stdout",
     "output_type": "stream",
     "text": [
      "Deep\n"
     ]
    }
   ],
   "source": [
    "# Creating a sub sttriing - SLICING \n",
    "\n",
    "sub_sttring = string1[0:4] # string1[:4]\n",
    "print(sub_sttring)"
   ]
  },
  {
   "cell_type": "code",
   "execution_count": 1,
   "metadata": {},
   "outputs": [
    {
     "name": "stdout",
     "output_type": "stream",
     "text": [
      "DEEP LEARNING\n",
      "deep learning\n"
     ]
    }
   ],
   "source": [
    "# Upper and Lower Case \n",
    "\n",
    "strings = \"Deep Learning\"\n",
    "print(strings.upper())\n",
    "print(strings.lower())"
   ]
  },
  {
   "cell_type": "code",
   "execution_count": 4,
   "metadata": {},
   "outputs": [
    {
     "name": "stdout",
     "output_type": "stream",
     "text": [
      "True\n",
      "True\n",
      "This is about deep learning \n"
     ]
    }
   ],
   "source": [
    "# Logistcs with Strings \n",
    "\n",
    "sl = \"Deep Learning is very easy!\"\n",
    "\n",
    "BOOL = sl.startswith('De')\n",
    "\n",
    "print(BOOL)\n",
    "print(sl.endswith('easy!'))\n",
    "\n",
    "if sl.startswith(\"Deep\"):\n",
    "    print('This is about deep learning')"
   ]
  },
  {
   "cell_type": "code",
   "execution_count": 2,
   "metadata": {},
   "outputs": [
    {
     "name": "stdout",
     "output_type": "stream",
     "text": [
      "['Deep', 'Learning', 'is', 'very', 'easy']\n",
      "<class 'list'>\n"
     ]
    }
   ],
   "source": [
    "# String Spliting \n",
    "\n",
    "s2 = \"Deep Learning is very easy\"\n",
    "\n",
    "words = s2.split(\" \")\n",
    "\n",
    "print(words)\n",
    "print(type(words))"
   ]
  },
  {
   "cell_type": "code",
   "execution_count": 4,
   "metadata": {},
   "outputs": [
    {
     "name": "stdout",
     "output_type": "stream",
     "text": [
      "['By strict definition, a deep neural network, or DNN, is a neural network with three or more layers', ' In practice, most DNNs have many more layers', ' DNNs are trained on large amounts of data to identify and classify phenomena, recognize patterns and relationships, evaluate posssibilities, and make predictions and decisions', ' While a single-layer neural network can make useful, approximate predictions and decisions, the additional layers in a deep neural network help refine and optimize those outcomes for greater accuracy', ' Deep learning drives many applications and services that improve automation, performing analytical and physical tasks without human intervention', ' It lies behind everyday products and services—e', 'g', ', digital assistants, voice-enabled TV remotes,  credit card fraud detection—as well as still emerging technologies such as self-driving cars and generative AI', ' ']\n",
      "By strict definition, a deep neural network, or DNN, is a neural network with three or more layers\n"
     ]
    }
   ],
   "source": [
    "para = \"By strict definition, a deep neural network, or DNN, is a neural network with three or more layers. In practice, most DNNs have many more layers. DNNs are trained on large amounts of data to identify and classify phenomena, recognize patterns and relationships, evaluate posssibilities, and make predictions and decisions. While a single-layer neural network can make useful, approximate predictions and decisions, the additional layers in a deep neural network help refine and optimize those outcomes for greater accuracy. Deep learning drives many applications and services that improve automation, performing analytical and physical tasks without human intervention. It lies behind everyday products and services—e.g., digital assistants, voice-enabled TV remotes,  credit card fraud detection—as well as still emerging technologies such as self-driving cars and generative AI. \"\n",
    "\n",
    "senetences = para.split('.')\n",
    "print(senetences)\n",
    "print(senetences[0])"
   ]
  }
 ],
 "metadata": {
  "kernelspec": {
   "display_name": "Python 3",
   "language": "python",
   "name": "python3"
  },
  "language_info": {
   "codemirror_mode": {
    "name": "ipython",
    "version": 3
   },
   "file_extension": ".py",
   "mimetype": "text/x-python",
   "name": "python",
   "nbconvert_exporter": "python",
   "pygments_lexer": "ipython3",
   "version": "3.12.3"
  }
 },
 "nbformat": 4,
 "nbformat_minor": 2
}
