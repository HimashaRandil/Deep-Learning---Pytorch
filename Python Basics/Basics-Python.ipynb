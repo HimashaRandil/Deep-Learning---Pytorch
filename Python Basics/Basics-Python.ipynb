{
 "cells": [
  {
   "cell_type": "code",
   "execution_count": null,
   "metadata": {},
   "outputs": [],
   "source": [
    "'''\n",
    "\n",
    "Basics -  Data types, variables, expression, Strings manipulation\n",
    "Data types in depth - Lists,Tuples, Dictionaries, Sets\n",
    "Programming Fundermentals - Loops, control structures, Exception handling\n",
    "OOP Concepst\n",
    "Functional Programming\n",
    "Working with DAta - Files, dataframes (Pandas), Numerical Calculations (Numpy)\n",
    "Advanced Concepts - Map, Lambda, list comprihension, regex\n",
    "\n",
    "'''"
   ]
  },
  {
   "cell_type": "markdown",
   "metadata": {},
   "source": [
    "## Python Fundamentals"
   ]
  },
  {
   "cell_type": "code",
   "execution_count": null,
   "metadata": {},
   "outputs": [],
   "source": [
    "# Data Types\n",
    "\n",
    "'''\n",
    "Integer - Whole Numbers\n",
    "Float - any real numbers\n",
    "String - characters in between quotes {',\"}\n",
    "Boolean - True or False\n",
    "None - null values\n",
    "\n",
    "Composite data types - List, Tuples, Dictionaries, Sets \n",
    "    Can hold multiple values\n",
    "\n",
    "'''"
   ]
  },
  {
   "cell_type": "code",
   "execution_count": 2,
   "metadata": {},
   "outputs": [
    {
     "name": "stdout",
     "output_type": "stream",
     "text": [
      "Hello World!\n",
      "10\n"
     ]
    }
   ],
   "source": [
    "# Print Statements \n",
    "print(\"Hello World!\")\n",
    "print(10)"
   ]
  },
  {
   "cell_type": "code",
   "execution_count": 4,
   "metadata": {},
   "outputs": [
    {
     "name": "stdout",
     "output_type": "stream",
     "text": [
      "<class 'int'>\n",
      "<class 'str'>\n"
     ]
    }
   ],
   "source": [
    "# Check Data Type\n",
    "\n",
    "a = 10\n",
    "print(type(a))\n",
    "\n",
    "a = \"Deep Learning\"\n",
    "print(type(a))"
   ]
  },
  {
   "cell_type": "code",
   "execution_count": 3,
   "metadata": {},
   "outputs": [
    {
     "name": "stdout",
     "output_type": "stream",
     "text": [
      "True\n"
     ]
    }
   ],
   "source": [
    "from IPython.core.prefilter import Integer\n",
    "\n",
    "if type ('Deep Learning') == str:\n",
    "    print(True)\n",
    "\n",
    "# mainly used in data validation "
   ]
  },
  {
   "cell_type": "code",
   "execution_count": 6,
   "metadata": {},
   "outputs": [
    {
     "name": "stdout",
     "output_type": "stream",
     "text": [
      "78.5\n"
     ]
    }
   ],
   "source": [
    "# Variable and Expressions\n",
    "\n",
    "# Variable - a rcerved memory location\n",
    "radius = 5\n",
    "pi =3.14\n",
    "\n",
    "# Statement - Combination of language syntaxes (numbers, keybwords, variables)\n",
    "area  = pi * radius * radius\n",
    "print(area)"
   ]
  },
  {
   "cell_type": "markdown",
   "metadata": {},
   "source": [
    "Restrictions when naming variables\n",
    "\n",
    "* cant use keywords or reserved function names as variables\n",
    "\n",
    "* Shouldn't use spacces  \n",
    "\n",
    "    insted of `grand total = 100` use `grand_total =100`\n",
    "\n",
    "\n",
    "* Variable name must start with a letter or  an underscore (don't start with numbers)\n",
    "\n",
    "* Variable names are case sensitive "
   ]
  },
  {
   "cell_type": "code",
   "execution_count": null,
   "metadata": {},
   "outputs": [],
   "source": []
  }
 ],
 "metadata": {
  "kernelspec": {
   "display_name": "Python 3",
   "language": "python",
   "name": "python3"
  },
  "language_info": {
   "codemirror_mode": {
    "name": "ipython",
    "version": 3
   },
   "file_extension": ".py",
   "mimetype": "text/x-python",
   "name": "python",
   "nbconvert_exporter": "python",
   "pygments_lexer": "ipython3",
   "version": "3.12.3"
  }
 },
 "nbformat": 4,
 "nbformat_minor": 2
}
