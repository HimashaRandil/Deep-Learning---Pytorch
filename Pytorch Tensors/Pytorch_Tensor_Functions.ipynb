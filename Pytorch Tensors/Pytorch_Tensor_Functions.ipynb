{
  "nbformat": 4,
  "nbformat_minor": 0,
  "metadata": {
    "colab": {
      "provenance": []
    },
    "kernelspec": {
      "name": "python3",
      "display_name": "Python 3"
    },
    "language_info": {
      "name": "python"
    }
  },
  "cells": [
    {
      "cell_type": "code",
      "execution_count": 1,
      "metadata": {
        "id": "Jku6rShkddUw"
      },
      "outputs": [],
      "source": [
        "import torch"
      ]
    },
    {
      "cell_type": "code",
      "source": [
        "x = torch.empty(3,4)\n",
        "print(type(x))\n",
        "print(x)"
      ],
      "metadata": {
        "colab": {
          "base_uri": "https://localhost:8080/"
        },
        "id": "0IP3YD2beBCP",
        "outputId": "aa050e42-6b09-4716-963a-786d8bb115c6"
      },
      "execution_count": 2,
      "outputs": [
        {
          "output_type": "stream",
          "name": "stdout",
          "text": [
            "<class 'torch.Tensor'>\n",
            "tensor([[-8.6210e-34,  4.5874e-41,  4.6323e-14,  3.3083e-41],\n",
            "        [ 0.0000e+00,  0.0000e+00,  0.0000e+00,  0.0000e+00],\n",
            "        [ 0.0000e+00,  7.9234e+34,  2.7340e+20,  6.8589e+22]])\n"
          ]
        }
      ]
    },
    {
      "cell_type": "code",
      "source": [
        "zeros = torch.zeros(2,3)\n",
        "print(zeros)\n",
        "\n",
        "ones = torch.ones(4,6)\n",
        "print(ones)\n",
        "\n",
        "torch.manual_seed(34514)\n",
        "random = torch.rand(5,3)\n",
        "print(random)"
      ],
      "metadata": {
        "colab": {
          "base_uri": "https://localhost:8080/"
        },
        "id": "HnBn1EH4h1DG",
        "outputId": "c523a9e5-22e1-4f4e-a3f2-c6bf911261dd"
      },
      "execution_count": 3,
      "outputs": [
        {
          "output_type": "stream",
          "name": "stdout",
          "text": [
            "tensor([[0., 0., 0.],\n",
            "        [0., 0., 0.]])\n",
            "tensor([[1., 1., 1., 1., 1., 1.],\n",
            "        [1., 1., 1., 1., 1., 1.],\n",
            "        [1., 1., 1., 1., 1., 1.],\n",
            "        [1., 1., 1., 1., 1., 1.]])\n",
            "tensor([[0.2665, 0.8317, 0.5322],\n",
            "        [0.5536, 0.4042, 0.4845],\n",
            "        [0.2333, 0.3251, 0.6874],\n",
            "        [0.8986, 0.3120, 0.6212],\n",
            "        [0.1603, 0.3260, 0.8760]])\n"
          ]
        }
      ]
    },
    {
      "cell_type": "code",
      "source": [
        "x = torch.empty(1, 3, 3)\n",
        "print(x.shape)\n",
        "print(x)\n",
        "\n",
        "empty_like_x = torch.empty_like(x)\n",
        "print(empty_like_x.shape)\n",
        "print(empty_like_x)\n",
        "\n",
        "ones_like_x = torch.ones_like(x)\n",
        "print(ones_like_x.shape)\n",
        "print(ones_like_x)\n",
        "\n",
        "zeros_like_x = torch.zeros_like(x)\n",
        "print(zeros_like_x.shape)\n",
        "print(zeros_like_x)\n",
        "\n",
        "rand_like_x = torch.rand_like(x)\n",
        "print(rand_like_x.shape)\n",
        "print(rand_like_x)"
      ],
      "metadata": {
        "colab": {
          "base_uri": "https://localhost:8080/"
        },
        "id": "QvPw18y_kD2O",
        "outputId": "3c5eaa0e-98d0-4aa9-8d02-fe930f46c279"
      },
      "execution_count": 5,
      "outputs": [
        {
          "output_type": "stream",
          "name": "stdout",
          "text": [
            "torch.Size([1, 3, 3])\n",
            "tensor([[[-8.6209e-34,  4.5874e-41,  4.7273e-14],\n",
            "         [ 3.3083e-41,         nan,  0.0000e+00],\n",
            "         [ 4.8222e+30,  1.8057e+28,  7.9050e+31]]])\n",
            "torch.Size([1, 3, 3])\n",
            "tensor([[[-1.1800e+26,  3.3087e-41,  0.0000e+00],\n",
            "         [ 0.0000e+00,  1.4013e-45,  0.0000e+00],\n",
            "         [ 0.0000e+00,  8.3994e-13,  1.1210e-43]]])\n",
            "torch.Size([1, 3, 3])\n",
            "tensor([[[1., 1., 1.],\n",
            "         [1., 1., 1.],\n",
            "         [1., 1., 1.]]])\n",
            "torch.Size([1, 3, 3])\n",
            "tensor([[[0., 0., 0.],\n",
            "         [0., 0., 0.],\n",
            "         [0., 0., 0.]]])\n",
            "torch.Size([1, 3, 3])\n",
            "tensor([[[0.5443, 0.7321, 0.0169],\n",
            "         [0.1441, 0.1688, 0.2516],\n",
            "         [0.0249, 0.5759, 0.9650]]])\n"
          ]
        }
      ]
    },
    {
      "cell_type": "code",
      "source": [
        "some_constants = torch.tensor([[6.2246, 7.2543], [9.52131,6.12421]])\n",
        "print(type(some_constants))\n",
        "print(some_constants)\n",
        "\n",
        "some_integers = torch.tensor((5,7,2,55,98,3,2,75,32,6,2,9,21,76,0))\n",
        "print(type(some_integers))\n",
        "print(some_integers)\n",
        "\n",
        "more_integers = torch.tensor(((2, 4, 6), [3, 6, 9]))\n",
        "print(type(more_integers))\n",
        "print(more_integers)"
      ],
      "metadata": {
        "colab": {
          "base_uri": "https://localhost:8080/"
        },
        "id": "VArJMxERnLfL",
        "outputId": "d5798850-bc7c-45a2-febb-a4a9f8e849a7"
      },
      "execution_count": 6,
      "outputs": [
        {
          "output_type": "stream",
          "name": "stdout",
          "text": [
            "<class 'torch.Tensor'>\n",
            "tensor([[6.2246, 7.2543],\n",
            "        [9.5213, 6.1242]])\n",
            "<class 'torch.Tensor'>\n",
            "tensor([ 5,  7,  2, 55, 98,  3,  2, 75, 32,  6,  2,  9, 21, 76,  0])\n",
            "<class 'torch.Tensor'>\n",
            "tensor([[2, 4, 6],\n",
            "        [3, 6, 9]])\n"
          ]
        }
      ]
    },
    {
      "cell_type": "code",
      "source": [
        "a = torch.ones((1, 3), dtype=torch.int16)\n",
        "print(a)\n",
        "\n",
        "b = torch.rand((4, 4), dtype=torch.float64) * 20.\n",
        "print(b)\n",
        "\n",
        "c = b.to(torch.int32)\n",
        "print(c)"
      ],
      "metadata": {
        "colab": {
          "base_uri": "https://localhost:8080/"
        },
        "id": "2WiaFdBpoi8i",
        "outputId": "22a7acd8-ca04-4c24-c35d-6a15ea7062d9"
      },
      "execution_count": 8,
      "outputs": [
        {
          "output_type": "stream",
          "name": "stdout",
          "text": [
            "tensor([[1, 1, 1]], dtype=torch.int16)\n",
            "tensor([[12.5880,  4.1721,  4.9548,  3.9444],\n",
            "        [ 6.0055,  4.5935, 15.5374, 14.1687],\n",
            "        [12.3699,  5.1719,  8.6020,  2.7520],\n",
            "        [16.6135,  6.7920, 14.5003, 10.9540]], dtype=torch.float64)\n",
            "tensor([[12,  4,  4,  3],\n",
            "        [ 6,  4, 15, 14],\n",
            "        [12,  5,  8,  2],\n",
            "        [16,  6, 14, 10]], dtype=torch.int32)\n"
          ]
        }
      ]
    },
    {
      "cell_type": "code",
      "source": [
        "d = torch.ones((1, 3), dtype=torch.bool)\n",
        "print(d)\n",
        "\n",
        "e = torch.rand((4, 4), dtype=torch.double)\n",
        "print(e)"
      ],
      "metadata": {
        "colab": {
          "base_uri": "https://localhost:8080/"
        },
        "id": "qu-Fpfksph5f",
        "outputId": "cd9e4456-e2d9-480d-c4ba-166523294aa8"
      },
      "execution_count": 13,
      "outputs": [
        {
          "output_type": "stream",
          "name": "stdout",
          "text": [
            "tensor([[True, True, True]])\n",
            "tensor([[0.9643, 0.7247, 0.3136, 0.6244],\n",
            "        [0.5707, 0.0262, 0.1718, 0.3114],\n",
            "        [0.8452, 0.2137, 0.9704, 0.2414],\n",
            "        [0.3738, 0.9287, 0.4931, 0.0417]], dtype=torch.float64)\n"
          ]
        }
      ]
    },
    {
      "cell_type": "code",
      "source": [
        "# Create a tensor on CPU\n",
        "cpu_tensor = torch.tensor([1, 2, 3])\n",
        "\n",
        "# Check if the tensor is on CUDA (GPU)\n",
        "is_cuda = cpu_tensor.is_cuda\n",
        "print(is_cuda)  # Output: False"
      ],
      "metadata": {
        "colab": {
          "base_uri": "https://localhost:8080/"
        },
        "id": "qyROT8jEr5gO",
        "outputId": "c157338d-9f79-4029-d8a2-9f0329cb3d28"
      },
      "execution_count": 15,
      "outputs": [
        {
          "output_type": "stream",
          "name": "stdout",
          "text": [
            "False\n"
          ]
        }
      ]
    },
    {
      "cell_type": "code",
      "source": [
        "\n",
        "# Create a tensor on CPU\n",
        "cpu_tensor = torch.tensor([1, 2, 3])\n",
        "print(cpu_tensor.device)  # Output: cpu\n"
      ],
      "metadata": {
        "colab": {
          "base_uri": "https://localhost:8080/"
        },
        "id": "hb4Qvg98sb6D",
        "outputId": "2fb951e7-3a7e-4009-d251-2f3ec6ed7615"
      },
      "execution_count": 17,
      "outputs": [
        {
          "output_type": "stream",
          "name": "stdout",
          "text": [
            "cpu\n"
          ]
        }
      ]
    },
    {
      "cell_type": "code",
      "source": [
        "import torch\n",
        "\n",
        "# Create a 2D tensor\n",
        "original_tensor = torch.tensor([[1, 2, 3], [4, 5, 6]])\n",
        "\n",
        "# Transpose the tensor\n",
        "transposed_tensor = original_tensor.T\n",
        "\n",
        "print(\"Original Tensor:\")\n",
        "print(original_tensor)\n",
        "print(\"Transposed Tensor:\")\n",
        "print(transposed_tensor)\n"
      ],
      "metadata": {
        "colab": {
          "base_uri": "https://localhost:8080/"
        },
        "id": "NI6FZ7HmuOJn",
        "outputId": "612fc296-19c6-48fa-edd3-fb4bc415bfd5"
      },
      "execution_count": 18,
      "outputs": [
        {
          "output_type": "stream",
          "name": "stdout",
          "text": [
            "Original Tensor:\n",
            "tensor([[1, 2, 3],\n",
            "        [4, 5, 6]])\n",
            "Transposed Tensor:\n",
            "tensor([[1, 4],\n",
            "        [2, 5],\n",
            "        [3, 6]])\n"
          ]
        }
      ]
    },
    {
      "cell_type": "code",
      "source": [
        "# Create a 2D tensor\n",
        "original_tensor = torch.tensor([[1, 2, 3], [4, 5, 6]])\n",
        "\n",
        "# Transpose the tensor\n",
        "transposed_and_conjugated_tensor = original_tensor.H\n",
        "\n",
        "print(\"Original Tensor:\")\n",
        "print(original_tensor)\n",
        "print(\"Transposed and Conjugated Tensor:\")\n",
        "print(transposed_and_conjugated_tensor)"
      ],
      "metadata": {
        "colab": {
          "base_uri": "https://localhost:8080/"
        },
        "id": "TnIxbdDEu_B0",
        "outputId": "9da263f2-d5ca-4712-93c1-381674de2f74"
      },
      "execution_count": 20,
      "outputs": [
        {
          "output_type": "stream",
          "name": "stdout",
          "text": [
            "Original Tensor:\n",
            "tensor([[1, 2, 3],\n",
            "        [4, 5, 6]])\n",
            "Transposed and Conjugated Tensor:\n",
            "tensor([[1, 4],\n",
            "        [2, 5],\n",
            "        [3, 6]])\n"
          ]
        }
      ]
    },
    {
      "cell_type": "code",
      "source": [
        "# Create a regular tensor\n",
        "x = torch.tensor([1, 2, 3])\n",
        "\n",
        "# Check if it's a meta tensor (should be False)\n",
        "print(x.is_meta)  # Output: False\n"
      ],
      "metadata": {
        "colab": {
          "base_uri": "https://localhost:8080/"
        },
        "id": "bRjOebSWwczY",
        "outputId": "a8797f59-5645-4d21-b3a0-76c81e8d3bfb"
      },
      "execution_count": 22,
      "outputs": [
        {
          "output_type": "stream",
          "name": "stdout",
          "text": [
            "False\n"
          ]
        }
      ]
    },
    {
      "cell_type": "code",
      "source": [
        "# Create a tensor and perform some operations\n",
        "x = torch.tensor([2.0], requires_grad=True)\n",
        "y = x**2 + 3*x + 1\n",
        "\n",
        "# Perform backward pass to compute gradients\n",
        "y.backward()\n",
        "\n",
        "# Access the gradient of the tensor with respect to the scalar value\n",
        "gradient = x.grad # after differenciation 2x+3 = 2(2.0)+3 = 7\n",
        "print(gradient)"
      ],
      "metadata": {
        "colab": {
          "base_uri": "https://localhost:8080/"
        },
        "id": "D8yTROspy5Ex",
        "outputId": "020a242f-7e61-4890-8547-9e52eea5569e"
      },
      "execution_count": 23,
      "outputs": [
        {
          "output_type": "stream",
          "name": "stdout",
          "text": [
            "tensor([7.])\n"
          ]
        }
      ]
    },
    {
      "cell_type": "code",
      "source": [
        "# Create a tensor\n",
        "original_tensor = torch.tensor([1, 2, 3])\n",
        "\n",
        "# Clone the tensor\n",
        "cloned_tensor = original_tensor.clone()\n",
        "print(cloned_tensor)"
      ],
      "metadata": {
        "colab": {
          "base_uri": "https://localhost:8080/"
        },
        "id": "HLlF6EXk0Wf2",
        "outputId": "a9a69f57-5dff-411d-d153-d250647bc0bb"
      },
      "execution_count": 25,
      "outputs": [
        {
          "output_type": "stream",
          "name": "stdout",
          "text": [
            "tensor([1, 2, 3])\n"
          ]
        }
      ]
    },
    {
      "cell_type": "code",
      "source": [
        "tensor = torch.tensor([[1, 2, 3], [4, 5, 6]])\n",
        "\n",
        "# Sum along dimension 0 (columns)\n",
        "sum_along_dim0 = tensor.sum(dim=0)\n",
        "print(sum_along_dim0)\n",
        "\n",
        "\n",
        "# Sum along dimension 1 (rows)\n",
        "sum_along_dim1 = tensor.sum(dim=1)\n",
        "print(sum_along_dim1)"
      ],
      "metadata": {
        "colab": {
          "base_uri": "https://localhost:8080/"
        },
        "id": "UM9LNPCA3B7q",
        "outputId": "97518227-ca71-4940-b7c4-4703e4465862"
      },
      "execution_count": 28,
      "outputs": [
        {
          "output_type": "stream",
          "name": "stdout",
          "text": [
            "tensor([5, 7, 9])\n",
            "tensor([ 6, 15])\n"
          ]
        }
      ]
    },
    {
      "cell_type": "code",
      "source": [
        "# Sample data\n",
        "data = torch.tensor([[1, 2, 3], [4, 5, 6], [7, 8, 9]])\n",
        "\n",
        "# Calculate correlation coefficients (between rows)\n",
        "corr_matrix = torch.corrcoef(data)\n",
        "print(corr_matrix)"
      ],
      "metadata": {
        "colab": {
          "base_uri": "https://localhost:8080/"
        },
        "id": "PLFGdCW99Uk7",
        "outputId": "59ccb4f5-164b-4851-e4be-551c44b8965e"
      },
      "execution_count": 33,
      "outputs": [
        {
          "output_type": "stream",
          "name": "stdout",
          "text": [
            "tensor([[1., 1., 1.],\n",
            "        [1., 1., 1.],\n",
            "        [1., 1., 1.]])\n"
          ]
        }
      ]
    },
    {
      "cell_type": "code",
      "source": [
        "# Sample tensor\n",
        "tensor = torch.tensor([[1, 0, 3], [0, 4, 0], [0,0,0], [0,3,5], [4,8,2]])\n",
        "\n",
        "# Count non-zero elements across all dimensions\n",
        "non_zero_count = tensor.count_nonzero()\n",
        "print(non_zero_count)\n",
        "\n",
        "# Count non-zero elements along the first dimension (rows)\n",
        "non_zero_count_rows = tensor.count_nonzero(dim=0)\n",
        "print(non_zero_count_rows)"
      ],
      "metadata": {
        "colab": {
          "base_uri": "https://localhost:8080/"
        },
        "id": "wbnDfe6I-dYF",
        "outputId": "133e2486-872e-4765-f3b9-19fff10fdf9a"
      },
      "execution_count": 35,
      "outputs": [
        {
          "output_type": "stream",
          "name": "stdout",
          "text": [
            "tensor(8)\n",
            "tensor([2, 3, 3])\n"
          ]
        }
      ]
    },
    {
      "cell_type": "code",
      "source": [
        "# Sample matrix\n",
        "matrix = torch.tensor([[1, 2, 3], [4, 5, 6], [7, 8, 9]])\n",
        "\n",
        "# Extract diagonal elements\n",
        "diagonal = torch.diag(matrix)\n",
        "print(diagonal)"
      ],
      "metadata": {
        "colab": {
          "base_uri": "https://localhost:8080/"
        },
        "id": "EuAqfE9GACox",
        "outputId": "c0863bc8-aa94-4319-aaf9-3a99582bd7ec"
      },
      "execution_count": 36,
      "outputs": [
        {
          "output_type": "stream",
          "name": "stdout",
          "text": [
            "tensor([1, 5, 9])\n"
          ]
        }
      ]
    },
    {
      "cell_type": "code",
      "source": [
        "\n",
        "# Sample tensors\n",
        "matrix2 = torch.tensor([[1, 2], [3, 4]])\n",
        "matrix1 = torch.tensor([[5, 6], [7, 8]])\n",
        "\n",
        "# Matrix multiplication\n",
        "result = torch.dot(matrix1,matrix2)\n",
        "print(result)"
      ],
      "metadata": {
        "colab": {
          "base_uri": "https://localhost:8080/",
          "height": 193
        },
        "id": "X9lL9IioCqdY",
        "outputId": "4e8c70af-e771-4cbc-aecd-033a37a86f30"
      },
      "execution_count": 43,
      "outputs": [
        {
          "output_type": "error",
          "ename": "TypeError",
          "evalue": "dot() missing 1 required positional arguments: \"tensor\"",
          "traceback": [
            "\u001b[0;31m---------------------------------------------------------------------------\u001b[0m",
            "\u001b[0;31mTypeError\u001b[0m                                 Traceback (most recent call last)",
            "\u001b[0;32m<ipython-input-43-6815391d1921>\u001b[0m in \u001b[0;36m<cell line: 6>\u001b[0;34m()\u001b[0m\n\u001b[1;32m      4\u001b[0m \u001b[0;34m\u001b[0m\u001b[0m\n\u001b[1;32m      5\u001b[0m \u001b[0;31m# Matrix multiplication\u001b[0m\u001b[0;34m\u001b[0m\u001b[0;34m\u001b[0m\u001b[0m\n\u001b[0;32m----> 6\u001b[0;31m \u001b[0mresult\u001b[0m \u001b[0;34m=\u001b[0m \u001b[0mtorch\u001b[0m\u001b[0;34m.\u001b[0m\u001b[0mdot\u001b[0m\u001b[0;34m(\u001b[0m\u001b[0mmatrix1\u001b[0m\u001b[0;34m)\u001b[0m\u001b[0;34m\u001b[0m\u001b[0;34m\u001b[0m\u001b[0m\n\u001b[0m\u001b[1;32m      7\u001b[0m \u001b[0mprint\u001b[0m\u001b[0;34m(\u001b[0m\u001b[0mresult\u001b[0m\u001b[0;34m)\u001b[0m\u001b[0;34m\u001b[0m\u001b[0;34m\u001b[0m\u001b[0m\n",
            "\u001b[0;31mTypeError\u001b[0m: dot() missing 1 required positional arguments: \"tensor\""
          ]
        }
      ]
    },
    {
      "cell_type": "code",
      "source": [
        "# Sample tensor\n",
        "tensor = torch.tensor([[1, 2, 3], [4, 5, 6]])\n",
        "\n",
        "# Reshape to a row vector (view)\n",
        "reshaped_tensor = tensor.reshape(-1)  # Equivalent to tensor.reshape(6)\n",
        "print(reshaped_tensor)  # Output: tensor([1, 2, 3, 4, 5, 6])"
      ],
      "metadata": {
        "colab": {
          "base_uri": "https://localhost:8080/"
        },
        "id": "I1wxN7ClHA1a",
        "outputId": "8e09d65c-18fb-4644-b152-84b52816c0d9"
      },
      "execution_count": 44,
      "outputs": [
        {
          "output_type": "stream",
          "name": "stdout",
          "text": [
            "tensor([1, 2, 3, 4, 5, 6])\n"
          ]
        }
      ]
    },
    {
      "cell_type": "code",
      "source": [
        "tensor = torch.tensor([2, 1, 2, 3, 1, 4])\n",
        "\n",
        "# Get unique elements (sorted)\n",
        "unique_elements = tensor.unique()\n",
        "print(unique_elements)"
      ],
      "metadata": {
        "colab": {
          "base_uri": "https://localhost:8080/"
        },
        "id": "uiE3DBQDIgf3",
        "outputId": "ee621c79-92e3-41c8-b38e-43aaabeb1fe4"
      },
      "execution_count": 45,
      "outputs": [
        {
          "output_type": "stream",
          "name": "stdout",
          "text": [
            "tensor([1, 2, 3, 4])\n"
          ]
        }
      ]
    }
  ]
}