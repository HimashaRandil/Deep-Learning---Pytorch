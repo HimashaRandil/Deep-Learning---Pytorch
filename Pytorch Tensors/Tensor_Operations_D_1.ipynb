{
  "nbformat": 4,
  "nbformat_minor": 0,
  "metadata": {
    "colab": {
      "provenance": [],
      "gpuType": "T4"
    },
    "kernelspec": {
      "name": "python3",
      "display_name": "Python 3"
    },
    "language_info": {
      "name": "python"
    },
    "accelerator": "GPU"
  },
  "cells": [
    {
      "cell_type": "code",
      "execution_count": 1,
      "metadata": {
        "id": "iVw3M06ACpl6"
      },
      "outputs": [],
      "source": [
        "import torch"
      ]
    },
    {
      "cell_type": "code",
      "source": [
        "torch.__version__"
      ],
      "metadata": {
        "colab": {
          "base_uri": "https://localhost:8080/",
          "height": 35
        },
        "id": "G1McrALlEsy0",
        "outputId": "20041009-de2b-4286-971b-39f8c9fc2b6b"
      },
      "execution_count": 2,
      "outputs": [
        {
          "output_type": "execute_result",
          "data": {
            "text/plain": [
              "'2.3.0+cu121'"
            ],
            "application/vnd.google.colaboratory.intrinsic+json": {
              "type": "string"
            }
          },
          "metadata": {},
          "execution_count": 2
        }
      ]
    },
    {
      "cell_type": "code",
      "source": [
        "!pip show torch"
      ],
      "metadata": {
        "colab": {
          "base_uri": "https://localhost:8080/"
        },
        "id": "LNV8CA1WE9Fd",
        "outputId": "18152df5-3665-4ef8-de46-bd15da3dee2a"
      },
      "execution_count": 3,
      "outputs": [
        {
          "output_type": "stream",
          "name": "stdout",
          "text": [
            "Name: torch\n",
            "Version: 2.3.0+cu121\n",
            "Summary: Tensors and Dynamic neural networks in Python with strong GPU acceleration\n",
            "Home-page: https://pytorch.org/\n",
            "Author: PyTorch Team\n",
            "Author-email: packages@pytorch.org\n",
            "License: BSD-3\n",
            "Location: /usr/local/lib/python3.10/dist-packages\n",
            "Requires: filelock, fsspec, jinja2, networkx, nvidia-cublas-cu12, nvidia-cuda-cupti-cu12, nvidia-cuda-nvrtc-cu12, nvidia-cuda-runtime-cu12, nvidia-cudnn-cu12, nvidia-cufft-cu12, nvidia-curand-cu12, nvidia-cusolver-cu12, nvidia-cusparse-cu12, nvidia-nccl-cu12, nvidia-nvtx-cu12, sympy, triton, typing-extensions\n",
            "Required-by: fastai, torchaudio, torchtext, torchvision\n"
          ]
        }
      ]
    },
    {
      "cell_type": "code",
      "source": [
        "torch.cuda.is_available()"
      ],
      "metadata": {
        "colab": {
          "base_uri": "https://localhost:8080/"
        },
        "id": "4IRVLpIQFDKM",
        "outputId": "f2d4a85d-cc9d-4540-b7a4-f8278b47ffcc"
      },
      "execution_count": 4,
      "outputs": [
        {
          "output_type": "execute_result",
          "data": {
            "text/plain": [
              "True"
            ]
          },
          "metadata": {},
          "execution_count": 4
        }
      ]
    },
    {
      "cell_type": "code",
      "source": [
        "# Tensors - GPU Data Strcuture\n",
        "\n",
        "num = [1,2,3,4,5]\n",
        "\n",
        "\n",
        "tensor1 = torch.tensor(num)\n",
        "print(tensor1)"
      ],
      "metadata": {
        "colab": {
          "base_uri": "https://localhost:8080/"
        },
        "id": "N73A_aEQFHhs",
        "outputId": "6b5eb7d9-d4c6-43af-f2ce-5d7a4e77a5fc"
      },
      "execution_count": 5,
      "outputs": [
        {
          "output_type": "stream",
          "name": "stdout",
          "text": [
            "tensor([1, 2, 3, 4, 5])\n"
          ]
        }
      ]
    },
    {
      "cell_type": "code",
      "source": [
        "tensor2d = torch.tensor([[1,2,3,4],[5,6,7,8]])\n",
        "print(tensor2d)"
      ],
      "metadata": {
        "colab": {
          "base_uri": "https://localhost:8080/"
        },
        "id": "Upyu8HsHFlVI",
        "outputId": "61baca5f-f4c9-464d-fff5-fc6f98b37603"
      },
      "execution_count": 7,
      "outputs": [
        {
          "output_type": "stream",
          "name": "stdout",
          "text": [
            "tensor([[1, 2, 3, 4],\n",
            "        [5, 6, 7, 8]])\n"
          ]
        }
      ]
    },
    {
      "cell_type": "code",
      "source": [
        "ten = torch.tensor([[1,2,3,4],[5,6,7,8]],dtype= torch.float, requires_grad=True)\n",
        "print(ten)"
      ],
      "metadata": {
        "colab": {
          "base_uri": "https://localhost:8080/"
        },
        "id": "G6z-2jpiF52p",
        "outputId": "f40af0c8-6466-4b54-e6b2-30585fcb38ae"
      },
      "execution_count": 8,
      "outputs": [
        {
          "output_type": "stream",
          "name": "stdout",
          "text": [
            "tensor([[1., 2., 3., 4.],\n",
            "        [5., 6., 7., 8.]], requires_grad=True)\n"
          ]
        }
      ]
    },
    {
      "cell_type": "code",
      "source": [
        "print(ten.grad)"
      ],
      "metadata": {
        "colab": {
          "base_uri": "https://localhost:8080/"
        },
        "id": "aRuEDyKXGoAK",
        "outputId": "ab2e4898-60c5-4cd6-80ee-06869c874ce8"
      },
      "execution_count": 9,
      "outputs": [
        {
          "output_type": "stream",
          "name": "stdout",
          "text": [
            "None\n"
          ]
        }
      ]
    },
    {
      "cell_type": "code",
      "source": [
        "ten.shape"
      ],
      "metadata": {
        "colab": {
          "base_uri": "https://localhost:8080/"
        },
        "id": "6WSvxrXHGuXM",
        "outputId": "bef1bb76-dedb-4e55-8906-9d4fea2eef0d"
      },
      "execution_count": 10,
      "outputs": [
        {
          "output_type": "execute_result",
          "data": {
            "text/plain": [
              "torch.Size([2, 4])"
            ]
          },
          "metadata": {},
          "execution_count": 10
        }
      ]
    },
    {
      "cell_type": "code",
      "source": [
        "ten.shape[0]"
      ],
      "metadata": {
        "colab": {
          "base_uri": "https://localhost:8080/"
        },
        "id": "BNwfK_N8J9E0",
        "outputId": "22958fac-993f-4083-e43b-032dc36cb3d9"
      },
      "execution_count": 11,
      "outputs": [
        {
          "output_type": "execute_result",
          "data": {
            "text/plain": [
              "2"
            ]
          },
          "metadata": {},
          "execution_count": 11
        }
      ]
    },
    {
      "cell_type": "code",
      "source": [
        "ten.shape[1]"
      ],
      "metadata": {
        "colab": {
          "base_uri": "https://localhost:8080/"
        },
        "id": "9yH3wmHkKQFp",
        "outputId": "a79b5748-d434-48f7-a7e4-25cd84bd3cb9"
      },
      "execution_count": 12,
      "outputs": [
        {
          "output_type": "execute_result",
          "data": {
            "text/plain": [
              "4"
            ]
          },
          "metadata": {},
          "execution_count": 12
        }
      ]
    },
    {
      "cell_type": "code",
      "source": [
        "y = torch.ones((2,4))\n",
        "print(y)"
      ],
      "metadata": {
        "colab": {
          "base_uri": "https://localhost:8080/"
        },
        "id": "g27LK7klKzYL",
        "outputId": "322ede2a-df21-4095-a0ce-c81b4e2871ab"
      },
      "execution_count": 14,
      "outputs": [
        {
          "output_type": "stream",
          "name": "stdout",
          "text": [
            "tensor([[1., 1., 1., 1.],\n",
            "        [1., 1., 1., 1.]])\n"
          ]
        }
      ]
    },
    {
      "cell_type": "code",
      "source": [
        "ft = torch.FloatTensor([[1,2,3,4,5],[6,7,8,9,10]])\n",
        "print(ft)"
      ],
      "metadata": {
        "colab": {
          "base_uri": "https://localhost:8080/"
        },
        "id": "DwzCCo-BK8Mq",
        "outputId": "2bfd6a3b-e63a-49f6-f6fd-334cfd78d76a"
      },
      "execution_count": 15,
      "outputs": [
        {
          "output_type": "stream",
          "name": "stdout",
          "text": [
            "tensor([[ 1.,  2.,  3.,  4.,  5.],\n",
            "        [ 6.,  7.,  8.,  9., 10.]])\n"
          ]
        }
      ]
    },
    {
      "cell_type": "code",
      "source": [
        "dt = torch.DoubleTensor([[1,2,3,4],[5,6,7,8]])\n",
        "print(dt)"
      ],
      "metadata": {
        "colab": {
          "base_uri": "https://localhost:8080/"
        },
        "id": "noo00NtKLLU1",
        "outputId": "3b8a5f01-5eda-4270-bd10-01e4a6f12519"
      },
      "execution_count": 16,
      "outputs": [
        {
          "output_type": "stream",
          "name": "stdout",
          "text": [
            "tensor([[1., 2., 3., 4.],\n",
            "        [5., 6., 7., 8.]], dtype=torch.float64)\n"
          ]
        }
      ]
    },
    {
      "cell_type": "code",
      "source": [
        "# Reshaping\n",
        "\n",
        "ft = torch.tensor([[1,2,3,4,5],[6,7,8,9,10]])\n",
        "ft.shape"
      ],
      "metadata": {
        "colab": {
          "base_uri": "https://localhost:8080/"
        },
        "id": "MFFIDTiIMCgE",
        "outputId": "91e5746c-814d-4cff-db68-7453ed0cde75"
      },
      "execution_count": 17,
      "outputs": [
        {
          "output_type": "execute_result",
          "data": {
            "text/plain": [
              "torch.Size([2, 5])"
            ]
          },
          "metadata": {},
          "execution_count": 17
        }
      ]
    },
    {
      "cell_type": "code",
      "source": [
        "ft.view(10)"
      ],
      "metadata": {
        "colab": {
          "base_uri": "https://localhost:8080/"
        },
        "id": "M2f6UNdGMWPv",
        "outputId": "107f37d6-a150-4b0d-bc47-6112b9e75d92"
      },
      "execution_count": 18,
      "outputs": [
        {
          "output_type": "execute_result",
          "data": {
            "text/plain": [
              "tensor([ 1,  2,  3,  4,  5,  6,  7,  8,  9, 10])"
            ]
          },
          "metadata": {},
          "execution_count": 18
        }
      ]
    },
    {
      "cell_type": "code",
      "source": [
        "ft.view(5,2)"
      ],
      "metadata": {
        "colab": {
          "base_uri": "https://localhost:8080/"
        },
        "id": "XqlVnGaMMyYl",
        "outputId": "8f64bc42-51eb-484a-e013-7a0c76ec074b"
      },
      "execution_count": 19,
      "outputs": [
        {
          "output_type": "execute_result",
          "data": {
            "text/plain": [
              "tensor([[ 1,  2],\n",
              "        [ 3,  4],\n",
              "        [ 5,  6],\n",
              "        [ 7,  8],\n",
              "        [ 9, 10]])"
            ]
          },
          "metadata": {},
          "execution_count": 19
        }
      ]
    },
    {
      "cell_type": "code",
      "source": [
        "t1 = torch.tensor([[1,2,3],[4,5,6],[7,8,9],[10,11,12]])\n",
        "t1"
      ],
      "metadata": {
        "colab": {
          "base_uri": "https://localhost:8080/"
        },
        "id": "SaCTJtM7M8Eo",
        "outputId": "f348eb9e-21e8-45a4-96a1-c40975f2ae1a"
      },
      "execution_count": 21,
      "outputs": [
        {
          "output_type": "execute_result",
          "data": {
            "text/plain": [
              "tensor([[ 1,  2,  3],\n",
              "        [ 4,  5,  6],\n",
              "        [ 7,  8,  9],\n",
              "        [10, 11, 12]])"
            ]
          },
          "metadata": {},
          "execution_count": 21
        }
      ]
    },
    {
      "cell_type": "code",
      "source": [
        "t1.shape"
      ],
      "metadata": {
        "colab": {
          "base_uri": "https://localhost:8080/"
        },
        "id": "rtsyL9eyNEX7",
        "outputId": "a575bc44-ea11-4e80-a53e-8d0828302cad"
      },
      "execution_count": 22,
      "outputs": [
        {
          "output_type": "execute_result",
          "data": {
            "text/plain": [
              "torch.Size([4, 3])"
            ]
          },
          "metadata": {},
          "execution_count": 22
        }
      ]
    },
    {
      "cell_type": "code",
      "source": [
        "t1.view(2,-1) #(row,columns)"
      ],
      "metadata": {
        "colab": {
          "base_uri": "https://localhost:8080/"
        },
        "id": "xSI0VNyKNLDB",
        "outputId": "aef85dbe-9260-4a81-cf72-78eab7083b10"
      },
      "execution_count": 26,
      "outputs": [
        {
          "output_type": "execute_result",
          "data": {
            "text/plain": [
              "tensor([[ 1,  2,  3,  4,  5,  6],\n",
              "        [ 7,  8,  9, 10, 11, 12]])"
            ]
          },
          "metadata": {},
          "execution_count": 26
        }
      ]
    },
    {
      "cell_type": "code",
      "source": [
        "t1.view(-1,12)"
      ],
      "metadata": {
        "colab": {
          "base_uri": "https://localhost:8080/"
        },
        "id": "fTmk9SDvNb4z",
        "outputId": "bc27744a-5eaf-45e1-ff6a-3afe23549580"
      },
      "execution_count": 27,
      "outputs": [
        {
          "output_type": "execute_result",
          "data": {
            "text/plain": [
              "tensor([[ 1,  2,  3,  4,  5,  6,  7,  8,  9, 10, 11, 12]])"
            ]
          },
          "metadata": {},
          "execution_count": 27
        }
      ]
    },
    {
      "cell_type": "code",
      "source": [
        "t2=torch.zeros(5,5)\n",
        "t2"
      ],
      "metadata": {
        "colab": {
          "base_uri": "https://localhost:8080/"
        },
        "id": "Kvb2fH7wNmJI",
        "outputId": "d7ca6c1f-0584-417b-b912-358a42462a08"
      },
      "execution_count": 30,
      "outputs": [
        {
          "output_type": "execute_result",
          "data": {
            "text/plain": [
              "tensor([[0., 0., 0., 0., 0.],\n",
              "        [0., 0., 0., 0., 0.],\n",
              "        [0., 0., 0., 0., 0.],\n",
              "        [0., 0., 0., 0., 0.],\n",
              "        [0., 0., 0., 0., 0.]])"
            ]
          },
          "metadata": {},
          "execution_count": 30
        }
      ]
    },
    {
      "cell_type": "code",
      "source": [
        "# 3D Tensor\n",
        "\n",
        "# (chanels, rows, columns)\n",
        "\n",
        "tf3 = torch.ones([3,4,5])\n",
        "tf3"
      ],
      "metadata": {
        "colab": {
          "base_uri": "https://localhost:8080/"
        },
        "id": "HZCOoqxdR2jt",
        "outputId": "c5bc0039-f512-433a-e525-b185f921bb8a"
      },
      "execution_count": 31,
      "outputs": [
        {
          "output_type": "execute_result",
          "data": {
            "text/plain": [
              "tensor([[[1., 1., 1., 1., 1.],\n",
              "         [1., 1., 1., 1., 1.],\n",
              "         [1., 1., 1., 1., 1.],\n",
              "         [1., 1., 1., 1., 1.]],\n",
              "\n",
              "        [[1., 1., 1., 1., 1.],\n",
              "         [1., 1., 1., 1., 1.],\n",
              "         [1., 1., 1., 1., 1.],\n",
              "         [1., 1., 1., 1., 1.]],\n",
              "\n",
              "        [[1., 1., 1., 1., 1.],\n",
              "         [1., 1., 1., 1., 1.],\n",
              "         [1., 1., 1., 1., 1.],\n",
              "         [1., 1., 1., 1., 1.]]])"
            ]
          },
          "metadata": {},
          "execution_count": 31
        }
      ]
    },
    {
      "cell_type": "code",
      "source": [
        "ten3d = torch.rand(3,4,5)\n",
        "ten3d"
      ],
      "metadata": {
        "colab": {
          "base_uri": "https://localhost:8080/"
        },
        "id": "bd0JVJoiaLd0",
        "outputId": "5abd0fd0-85aa-4ef3-d669-6945f18a6fe0"
      },
      "execution_count": 33,
      "outputs": [
        {
          "output_type": "execute_result",
          "data": {
            "text/plain": [
              "tensor([[[0.1147, 0.6687, 0.9667, 0.9290, 0.2755],\n",
              "         [0.8122, 0.6158, 0.7346, 0.2752, 0.1126],\n",
              "         [0.4294, 0.2595, 0.5913, 0.9545, 0.5067],\n",
              "         [0.4368, 0.1676, 0.3525, 0.7720, 0.2193]],\n",
              "\n",
              "        [[0.5366, 0.4918, 0.7529, 0.8460, 0.3481],\n",
              "         [0.1829, 0.9269, 0.0236, 0.4757, 0.1913],\n",
              "         [0.4258, 0.8737, 0.0863, 0.7145, 0.8891],\n",
              "         [0.0139, 0.8878, 0.4014, 0.0552, 0.8283]],\n",
              "\n",
              "        [[0.6821, 0.7516, 0.6360, 0.9656, 0.3940],\n",
              "         [0.3002, 0.8697, 0.8599, 0.4366, 0.4894],\n",
              "         [0.5573, 0.4561, 0.6849, 0.6369, 0.5422],\n",
              "         [0.6360, 0.8651, 0.7852, 0.7893, 0.3755]]])"
            ]
          },
          "metadata": {},
          "execution_count": 33
        }
      ]
    },
    {
      "cell_type": "code",
      "source": [
        "tend3d1 = torch.randn(3,4,5)\n",
        "tend3d1"
      ],
      "metadata": {
        "colab": {
          "base_uri": "https://localhost:8080/"
        },
        "id": "xIRCSlUWaXHJ",
        "outputId": "a02c4a22-5a4d-4660-ddde-451d283a9e22"
      },
      "execution_count": 37,
      "outputs": [
        {
          "output_type": "execute_result",
          "data": {
            "text/plain": [
              "tensor([[[-0.6527,  1.4060,  0.1894,  0.9186,  0.6481],\n",
              "         [ 1.0777,  0.3452, -0.6686,  0.1113,  0.2209],\n",
              "         [-1.2657,  0.6110,  2.0581, -0.1680, -1.9253],\n",
              "         [ 1.8820, -0.8147,  0.3946,  1.0184,  1.2093]],\n",
              "\n",
              "        [[ 0.3838,  0.2750, -0.0579, -1.4849,  0.8580],\n",
              "         [-0.0782,  1.4850,  1.0364, -1.0491, -1.3489],\n",
              "         [-0.4424,  1.0119,  0.3871, -0.7592, -1.6026],\n",
              "         [ 1.3162, -0.6513, -0.9750, -0.1508,  0.4054]],\n",
              "\n",
              "        [[ 0.3595, -0.7643,  0.3042, -0.7477,  0.9353],\n",
              "         [-1.7688,  0.4766, -2.4109, -0.6306,  0.1523],\n",
              "         [-1.3320, -0.9645,  1.6106, -1.0865,  0.7303],\n",
              "         [-0.0837, -1.4029,  1.9817, -0.1458, -0.2149]]])"
            ]
          },
          "metadata": {},
          "execution_count": 37
        }
      ]
    }
  ]
}