{
  "nbformat": 4,
  "nbformat_minor": 0,
  "metadata": {
    "colab": {
      "provenance": [],
      "gpuType": "T4"
    },
    "kernelspec": {
      "name": "python3",
      "display_name": "Python 3"
    },
    "language_info": {
      "name": "python"
    },
    "accelerator": "GPU"
  },
  "cells": [
    {
      "cell_type": "code",
      "execution_count": 3,
      "metadata": {
        "id": "6haRziVZi-hX"
      },
      "outputs": [],
      "source": [
        "import torch"
      ]
    },
    {
      "cell_type": "code",
      "source": [
        "# Create a matrix of (3,4,5)\n",
        "ten =  torch.ones(3,4,5, dtype=torch.float)\n",
        "print(ten)"
      ],
      "metadata": {
        "colab": {
          "base_uri": "https://localhost:8080/"
        },
        "id": "gyL4OrZ3Wpcd",
        "outputId": "10734723-4630-4d8e-94f8-7a44f84efadb"
      },
      "execution_count": 5,
      "outputs": [
        {
          "output_type": "stream",
          "name": "stdout",
          "text": [
            "tensor([[[1., 1., 1., 1., 1.],\n",
            "         [1., 1., 1., 1., 1.],\n",
            "         [1., 1., 1., 1., 1.],\n",
            "         [1., 1., 1., 1., 1.]],\n",
            "\n",
            "        [[1., 1., 1., 1., 1.],\n",
            "         [1., 1., 1., 1., 1.],\n",
            "         [1., 1., 1., 1., 1.],\n",
            "         [1., 1., 1., 1., 1.]],\n",
            "\n",
            "        [[1., 1., 1., 1., 1.],\n",
            "         [1., 1., 1., 1., 1.],\n",
            "         [1., 1., 1., 1., 1.],\n",
            "         [1., 1., 1., 1., 1.]]])\n"
          ]
        }
      ]
    },
    {
      "cell_type": "code",
      "source": [
        "# creating a 4 by 5 tensor with random integers in between 5 and 30\n",
        "int_ten = torch.randint(5,30,(4,5))\n",
        "print(int_ten)"
      ],
      "metadata": {
        "colab": {
          "base_uri": "https://localhost:8080/"
        },
        "id": "sii0U3DDXq-Q",
        "outputId": "29005f2f-86d2-4e04-c5e9-91ea62f03e98"
      },
      "execution_count": 8,
      "outputs": [
        {
          "output_type": "stream",
          "name": "stdout",
          "text": [
            "tensor([[22,  8, 14, 10, 11],\n",
            "        [13, 26, 12, 11, 23],\n",
            "        [26, 28,  6, 12,  6],\n",
            "        [ 6, 24, 27,  6, 21]])\n"
          ]
        }
      ]
    },
    {
      "cell_type": "code",
      "source": [
        "# Create a tensor with all 5s, with the shape (3,3)\n",
        "\n",
        "t1 = torch.randint(5,6,(3,3))\n",
        "print(t1)\n",
        "\n",
        "# create a tesnsor with all n walue with shape p*q\n",
        "# ten = torxh.randint(n,n+1, (p,q))"
      ],
      "metadata": {
        "colab": {
          "base_uri": "https://localhost:8080/"
        },
        "id": "ERUQgT8RX8cZ",
        "outputId": "51f88835-fb02-43ec-8216-bf459a61c716"
      },
      "execution_count": 10,
      "outputs": [
        {
          "output_type": "stream",
          "name": "stdout",
          "text": [
            "tensor([[5, 5, 5],\n",
            "        [5, 5, 5],\n",
            "        [5, 5, 5]])\n"
          ]
        }
      ]
    },
    {
      "cell_type": "code",
      "source": [
        "# finding no of elemensts in Tensor\n",
        "print(torch.numel(t1))"
      ],
      "metadata": {
        "colab": {
          "base_uri": "https://localhost:8080/"
        },
        "id": "kHoTTdRqZADX",
        "outputId": "d38f7921-9bb8-4977-8cce-875105510b62"
      },
      "execution_count": 11,
      "outputs": [
        {
          "output_type": "stream",
          "name": "stdout",
          "text": [
            "9\n"
          ]
        }
      ]
    },
    {
      "cell_type": "code",
      "source": [
        "t2 = torch.ones(3,6, dtype=torch.float)\n",
        "print(t2)"
      ],
      "metadata": {
        "id": "9T_9RUQfZkDx"
      },
      "execution_count": 10,
      "outputs": []
    },
    {
      "cell_type": "code",
      "source": [
        "# same shape like t2 but with different values and data types\n",
        "t2_like = torch.randn_like(t2, dtype=torch.float)\n",
        "print(t2_like)\n"
      ],
      "metadata": {
        "colab": {
          "base_uri": "https://localhost:8080/"
        },
        "id": "M1r-kK7tZzbu",
        "outputId": "ee14f2ae-bbf4-44d1-d4c1-f58ad0afa4ff"
      },
      "execution_count": 11,
      "outputs": [
        {
          "output_type": "stream",
          "name": "stdout",
          "text": [
            "tensor([[-1.5945, -1.6779,  2.3649,  0.5030,  0.7337,  0.6632],\n",
            "        [-0.1112, -1.2166,  0.1402, -2.0070,  1.5269,  1.2455],\n",
            "        [-1.3656,  0.7048, -0.8172, -1.4511, -0.4125, -0.6136]])\n"
          ]
        }
      ]
    },
    {
      "cell_type": "code",
      "source": [
        "# Add two Tensors\n",
        "sum = torch.add(t2,t2_like)\n",
        "print(sum)\n",
        "\n",
        "# to perform this data type should compatible and size should be the same"
      ],
      "metadata": {
        "colab": {
          "base_uri": "https://localhost:8080/"
        },
        "id": "cG7cGiyPaQ0f",
        "outputId": "f0ee8e2c-1df0-4044-9646-07b687df00d3"
      },
      "execution_count": 12,
      "outputs": [
        {
          "output_type": "stream",
          "name": "stdout",
          "text": [
            "tensor([[-0.5945, -0.6779,  3.3649,  1.5030,  1.7337,  1.6632],\n",
            "        [ 0.8888, -0.2166,  1.1402, -1.0070,  2.5269,  2.2455],\n",
            "        [-0.3656,  1.7048,  0.1828, -0.4511,  0.5875,  0.3864]])\n"
          ]
        }
      ]
    },
    {
      "cell_type": "code",
      "source": [
        "# alternate approach\n",
        "\n",
        "#t2 <- t2+t2_like\n",
        "\n",
        "t2 = t2.add_(t2_like)"
      ],
      "metadata": {
        "id": "Gw-xGB5Ea5Px"
      },
      "execution_count": 13,
      "outputs": []
    },
    {
      "cell_type": "code",
      "source": [
        "print(t2)"
      ],
      "metadata": {
        "colab": {
          "base_uri": "https://localhost:8080/"
        },
        "id": "tOZlYpOSbqex",
        "outputId": "98aa7e51-a737-4aa2-fef1-943b90ad512e"
      },
      "execution_count": 14,
      "outputs": [
        {
          "output_type": "stream",
          "name": "stdout",
          "text": [
            "tensor([[-0.5945, -0.6779,  3.3649,  1.5030,  1.7337,  1.6632],\n",
            "        [ 0.8888, -0.2166,  1.1402, -1.0070,  2.5269,  2.2455],\n",
            "        [-0.3656,  1.7048,  0.1828, -0.4511,  0.5875,  0.3864]])\n"
          ]
        }
      ]
    },
    {
      "cell_type": "markdown",
      "source": [
        "### Tensor Slicing"
      ],
      "metadata": {
        "id": "Uk-fvzSKuri8"
      }
    },
    {
      "cell_type": "code",
      "source": [
        "# tensor[row_range, column_range]\n",
        "\n",
        "print(t2)\n",
        "t2.shape\n",
        "\n",
        "\n",
        "t2[:,0:2]"
      ],
      "metadata": {
        "colab": {
          "base_uri": "https://localhost:8080/"
        },
        "id": "qrLL_lUFtZAa",
        "outputId": "7a61a084-f13a-44de-a037-b40b4f870530"
      },
      "execution_count": 16,
      "outputs": [
        {
          "output_type": "stream",
          "name": "stdout",
          "text": [
            "tensor([[-0.5945, -0.6779,  3.3649,  1.5030,  1.7337,  1.6632],\n",
            "        [ 0.8888, -0.2166,  1.1402, -1.0070,  2.5269,  2.2455],\n",
            "        [-0.3656,  1.7048,  0.1828, -0.4511,  0.5875,  0.3864]])\n"
          ]
        },
        {
          "output_type": "execute_result",
          "data": {
            "text/plain": [
              "tensor([[-0.5945, -0.6779],\n",
              "        [ 0.8888, -0.2166],\n",
              "        [-0.3656,  1.7048]])"
            ]
          },
          "metadata": {},
          "execution_count": 16
        }
      ]
    },
    {
      "cell_type": "code",
      "source": [],
      "metadata": {
        "id": "uN74G8IDvWZD"
      },
      "execution_count": null,
      "outputs": []
    }
  ]
}